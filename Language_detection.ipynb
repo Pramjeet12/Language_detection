{
 "cells": [
  {
   "cell_type": "markdown",
   "id": "795f4442-69bb-469c-85a2-2bc55c83e985",
   "metadata": {},
   "source": [
    "**Language Detection!!!**"
   ]
  },
  {
   "cell_type": "code",
   "execution_count": 1,
   "id": "53c2f2f6-864e-4f0b-87aa-15404fa9e661",
   "metadata": {},
   "outputs": [],
   "source": [
    "import numpy as np\n",
    "import pandas as pd\n",
    "import matplotlib.pyplot as plt"
   ]
  },
  {
   "cell_type": "code",
   "execution_count": 2,
   "id": "bb9624ac-7628-4729-b225-d805b4cfa703",
   "metadata": {},
   "outputs": [],
   "source": [
    "data = pd.read_csv(r\"C:\\Users\\ASUS\\Downloads\\archive (7)\\dataset.csv\")"
   ]
  },
  {
   "cell_type": "code",
   "execution_count": 3,
   "id": "92841b72-0dd9-4589-a0b3-f05411a45d8e",
   "metadata": {},
   "outputs": [
    {
     "data": {
      "text/html": [
       "<div>\n",
       "<style scoped>\n",
       "    .dataframe tbody tr th:only-of-type {\n",
       "        vertical-align: middle;\n",
       "    }\n",
       "\n",
       "    .dataframe tbody tr th {\n",
       "        vertical-align: top;\n",
       "    }\n",
       "\n",
       "    .dataframe thead th {\n",
       "        text-align: right;\n",
       "    }\n",
       "</style>\n",
       "<table border=\"1\" class=\"dataframe\">\n",
       "  <thead>\n",
       "    <tr style=\"text-align: right;\">\n",
       "      <th></th>\n",
       "      <th>Text</th>\n",
       "      <th>language</th>\n",
       "    </tr>\n",
       "  </thead>\n",
       "  <tbody>\n",
       "    <tr>\n",
       "      <th>0</th>\n",
       "      <td>klement gottwaldi surnukeha palsameeriti ning ...</td>\n",
       "      <td>Estonian</td>\n",
       "    </tr>\n",
       "    <tr>\n",
       "      <th>1</th>\n",
       "      <td>sebes joseph pereira thomas  på eng the jesuit...</td>\n",
       "      <td>Swedish</td>\n",
       "    </tr>\n",
       "    <tr>\n",
       "      <th>2</th>\n",
       "      <td>ถนนเจริญกรุง อักษรโรมัน thanon charoen krung เ...</td>\n",
       "      <td>Thai</td>\n",
       "    </tr>\n",
       "    <tr>\n",
       "      <th>3</th>\n",
       "      <td>விசாகப்பட்டினம் தமிழ்ச்சங்கத்தை இந்துப் பத்திர...</td>\n",
       "      <td>Tamil</td>\n",
       "    </tr>\n",
       "    <tr>\n",
       "      <th>4</th>\n",
       "      <td>de spons behoort tot het geslacht haliclona en...</td>\n",
       "      <td>Dutch</td>\n",
       "    </tr>\n",
       "  </tbody>\n",
       "</table>\n",
       "</div>"
      ],
      "text/plain": [
       "                                                Text  language\n",
       "0  klement gottwaldi surnukeha palsameeriti ning ...  Estonian\n",
       "1  sebes joseph pereira thomas  på eng the jesuit...   Swedish\n",
       "2  ถนนเจริญกรุง อักษรโรมัน thanon charoen krung เ...      Thai\n",
       "3  விசாகப்பட்டினம் தமிழ்ச்சங்கத்தை இந்துப் பத்திர...     Tamil\n",
       "4  de spons behoort tot het geslacht haliclona en...     Dutch"
      ]
     },
     "execution_count": 3,
     "metadata": {},
     "output_type": "execute_result"
    }
   ],
   "source": [
    "data.head()"
   ]
  },
  {
   "cell_type": "code",
   "execution_count": 4,
   "id": "342c1e07-cb98-4316-a4b6-6eb2031478e1",
   "metadata": {},
   "outputs": [
    {
     "data": {
      "text/html": [
       "<div>\n",
       "<style scoped>\n",
       "    .dataframe tbody tr th:only-of-type {\n",
       "        vertical-align: middle;\n",
       "    }\n",
       "\n",
       "    .dataframe tbody tr th {\n",
       "        vertical-align: top;\n",
       "    }\n",
       "\n",
       "    .dataframe thead th {\n",
       "        text-align: right;\n",
       "    }\n",
       "</style>\n",
       "<table border=\"1\" class=\"dataframe\">\n",
       "  <thead>\n",
       "    <tr style=\"text-align: right;\">\n",
       "      <th></th>\n",
       "      <th>Text</th>\n",
       "      <th>language</th>\n",
       "    </tr>\n",
       "  </thead>\n",
       "  <tbody>\n",
       "    <tr>\n",
       "      <th>21995</th>\n",
       "      <td>hors du terrain les années  et  sont des année...</td>\n",
       "      <td>French</td>\n",
       "    </tr>\n",
       "    <tr>\n",
       "      <th>21996</th>\n",
       "      <td>ใน พศ  หลักจากที่เสด็จประพาสแหลมมลายู ชวา อินเ...</td>\n",
       "      <td>Thai</td>\n",
       "    </tr>\n",
       "    <tr>\n",
       "      <th>21997</th>\n",
       "      <td>con motivo de la celebración del septuagésimoq...</td>\n",
       "      <td>Spanish</td>\n",
       "    </tr>\n",
       "    <tr>\n",
       "      <th>21998</th>\n",
       "      <td>年月，當時還只有歲的她在美國出道，以mai-k名義推出首張英文《baby i like》，由...</td>\n",
       "      <td>Chinese</td>\n",
       "    </tr>\n",
       "    <tr>\n",
       "      <th>21999</th>\n",
       "      <td>aprilie sonda spațială messenger a nasa și-a ...</td>\n",
       "      <td>Romanian</td>\n",
       "    </tr>\n",
       "  </tbody>\n",
       "</table>\n",
       "</div>"
      ],
      "text/plain": [
       "                                                    Text  language\n",
       "21995  hors du terrain les années  et  sont des année...    French\n",
       "21996  ใน พศ  หลักจากที่เสด็จประพาสแหลมมลายู ชวา อินเ...      Thai\n",
       "21997  con motivo de la celebración del septuagésimoq...   Spanish\n",
       "21998  年月，當時還只有歲的她在美國出道，以mai-k名義推出首張英文《baby i like》，由...   Chinese\n",
       "21999   aprilie sonda spațială messenger a nasa și-a ...  Romanian"
      ]
     },
     "execution_count": 4,
     "metadata": {},
     "output_type": "execute_result"
    }
   ],
   "source": [
    "data.tail()"
   ]
  },
  {
   "cell_type": "code",
   "execution_count": 5,
   "id": "cb666768-2376-47cb-a3bb-edd3df052b62",
   "metadata": {},
   "outputs": [
    {
     "data": {
      "text/html": [
       "<div>\n",
       "<style scoped>\n",
       "    .dataframe tbody tr th:only-of-type {\n",
       "        vertical-align: middle;\n",
       "    }\n",
       "\n",
       "    .dataframe tbody tr th {\n",
       "        vertical-align: top;\n",
       "    }\n",
       "\n",
       "    .dataframe thead th {\n",
       "        text-align: right;\n",
       "    }\n",
       "</style>\n",
       "<table border=\"1\" class=\"dataframe\">\n",
       "  <thead>\n",
       "    <tr style=\"text-align: right;\">\n",
       "      <th></th>\n",
       "      <th>Text</th>\n",
       "      <th>language</th>\n",
       "    </tr>\n",
       "  </thead>\n",
       "  <tbody>\n",
       "    <tr>\n",
       "      <th>19199</th>\n",
       "      <td>в марте  г начались работы по дальнейшей рекон...</td>\n",
       "      <td>Russian</td>\n",
       "    </tr>\n",
       "    <tr>\n",
       "      <th>5067</th>\n",
       "      <td>سانچہقرآن-سورہ  آیت ۔۔۔* وَرَفَعَ أَبَوَيْهِ ع...</td>\n",
       "      <td>Urdu</td>\n",
       "    </tr>\n",
       "    <tr>\n",
       "      <th>3510</th>\n",
       "      <td>din punct de vedere matematic dar nu numai mat...</td>\n",
       "      <td>Romanian</td>\n",
       "    </tr>\n",
       "    <tr>\n",
       "      <th>6485</th>\n",
       "      <td>selama berbaring dirumah sakit paska kecelakaa...</td>\n",
       "      <td>Indonesian</td>\n",
       "    </tr>\n",
       "    <tr>\n",
       "      <th>7230</th>\n",
       "      <td>campeonato brasileiro de voleibol de praia é u...</td>\n",
       "      <td>Portugese</td>\n",
       "    </tr>\n",
       "    <tr>\n",
       "      <th>14713</th>\n",
       "      <td>特朗普的胜利被认为是一次惊人的政治逆转。虽然特朗普的民调都长期落后于民主党候选人希拉里·克林...</td>\n",
       "      <td>Chinese</td>\n",
       "    </tr>\n",
       "    <tr>\n",
       "      <th>10212</th>\n",
       "      <td>on march   donald defreeze escaped from prison...</td>\n",
       "      <td>English</td>\n",
       "    </tr>\n",
       "    <tr>\n",
       "      <th>4655</th>\n",
       "      <td>one of the things we have published on astr...</td>\n",
       "      <td>Portugese</td>\n",
       "    </tr>\n",
       "    <tr>\n",
       "      <th>14075</th>\n",
       "      <td>depuis lors bhl est lune des rares personnalit...</td>\n",
       "      <td>French</td>\n",
       "    </tr>\n",
       "    <tr>\n",
       "      <th>18289</th>\n",
       "      <td>پورا نام منذر بن قدامہ بن عرفجة بن كعب بن النح...</td>\n",
       "      <td>Urdu</td>\n",
       "    </tr>\n",
       "  </tbody>\n",
       "</table>\n",
       "</div>"
      ],
      "text/plain": [
       "                                                    Text    language\n",
       "19199  в марте  г начались работы по дальнейшей рекон...     Russian\n",
       "5067   سانچہقرآن-سورہ  آیت ۔۔۔* وَرَفَعَ أَبَوَيْهِ ع...        Urdu\n",
       "3510   din punct de vedere matematic dar nu numai mat...    Romanian\n",
       "6485   selama berbaring dirumah sakit paska kecelakaa...  Indonesian\n",
       "7230   campeonato brasileiro de voleibol de praia é u...   Portugese\n",
       "14713  特朗普的胜利被认为是一次惊人的政治逆转。虽然特朗普的民调都长期落后于民主党候选人希拉里·克林...     Chinese\n",
       "10212  on march   donald defreeze escaped from prison...     English\n",
       "4655      one of the things we have published on astr...   Portugese\n",
       "14075  depuis lors bhl est lune des rares personnalit...      French\n",
       "18289  پورا نام منذر بن قدامہ بن عرفجة بن كعب بن النح...        Urdu"
      ]
     },
     "execution_count": 5,
     "metadata": {},
     "output_type": "execute_result"
    }
   ],
   "source": [
    "data.sample(10)"
   ]
  },
  {
   "cell_type": "code",
   "execution_count": 6,
   "id": "772cc051-1d4d-42ad-9694-240641375cee",
   "metadata": {},
   "outputs": [
    {
     "data": {
      "text/html": [
       "<div>\n",
       "<style scoped>\n",
       "    .dataframe tbody tr th:only-of-type {\n",
       "        vertical-align: middle;\n",
       "    }\n",
       "\n",
       "    .dataframe tbody tr th {\n",
       "        vertical-align: top;\n",
       "    }\n",
       "\n",
       "    .dataframe thead th {\n",
       "        text-align: right;\n",
       "    }\n",
       "</style>\n",
       "<table border=\"1\" class=\"dataframe\">\n",
       "  <thead>\n",
       "    <tr style=\"text-align: right;\">\n",
       "      <th></th>\n",
       "      <th>Text</th>\n",
       "      <th>language</th>\n",
       "    </tr>\n",
       "  </thead>\n",
       "  <tbody>\n",
       "    <tr>\n",
       "      <th>14890</th>\n",
       "      <td>oorspronkelijk was ze verloofd met otto zoon v...</td>\n",
       "      <td>Dutch</td>\n",
       "    </tr>\n",
       "    <tr>\n",
       "      <th>11876</th>\n",
       "      <td>वर्ष  में अद्यतन फ़्रेंचाइज़ कानून का जन्म हुआ...</td>\n",
       "      <td>Hindi</td>\n",
       "    </tr>\n",
       "    <tr>\n",
       "      <th>17941</th>\n",
       "      <td>on april   she was recorded on surveillance vi...</td>\n",
       "      <td>English</td>\n",
       "    </tr>\n",
       "    <tr>\n",
       "      <th>2458</th>\n",
       "      <td>ao mesmo tempo nas décadas recentes a heráldic...</td>\n",
       "      <td>Portugese</td>\n",
       "    </tr>\n",
       "    <tr>\n",
       "      <th>550</th>\n",
       "      <td>また、ニュータウンの交通機関として新線建設を目的とした会社に相次いで出資した。北総開発鉄道（...</td>\n",
       "      <td>Japanese</td>\n",
       "    </tr>\n",
       "    <tr>\n",
       "      <th>11315</th>\n",
       "      <td>selimova glavica är en kulle i bosnien och her...</td>\n",
       "      <td>Swedish</td>\n",
       "    </tr>\n",
       "    <tr>\n",
       "      <th>14779</th>\n",
       "      <td>inför säsongen  skrev spanjoren på ett kontrak...</td>\n",
       "      <td>Swedish</td>\n",
       "    </tr>\n",
       "    <tr>\n",
       "      <th>19381</th>\n",
       "      <td>on  march  matthias schoenaerts was announced ...</td>\n",
       "      <td>English</td>\n",
       "    </tr>\n",
       "    <tr>\n",
       "      <th>3914</th>\n",
       "      <td>د  زېږدي کال په دسمبر کې د امريکا په اوهايو اي...</td>\n",
       "      <td>Pushto</td>\n",
       "    </tr>\n",
       "    <tr>\n",
       "      <th>16855</th>\n",
       "      <td>கீட்டோடொன்டைடீ chaetodontidae பேர்சிஃபார்மசு ஒ...</td>\n",
       "      <td>Tamil</td>\n",
       "    </tr>\n",
       "    <tr>\n",
       "      <th>7650</th>\n",
       "      <td>major-general lancelot edgar connop mervyn per...</td>\n",
       "      <td>English</td>\n",
       "    </tr>\n",
       "    <tr>\n",
       "      <th>18170</th>\n",
       "      <td>grumesnil is een gemeente in het franse depart...</td>\n",
       "      <td>Dutch</td>\n",
       "    </tr>\n",
       "    <tr>\n",
       "      <th>618</th>\n",
       "      <td>yılında iken sistemin ilk fırlatılışının  kas...</td>\n",
       "      <td>Turkish</td>\n",
       "    </tr>\n",
       "    <tr>\n",
       "      <th>6691</th>\n",
       "      <td>ใน พศ  เขาได้รับเลือกตั้งอีกครั้งหนึ่ง และเป็น...</td>\n",
       "      <td>Thai</td>\n",
       "    </tr>\n",
       "    <tr>\n",
       "      <th>3334</th>\n",
       "      <td>ตัว ห เมื่อเป็นตัวนำอักษรเดี่ยว ไม่ต้องออกเสีย...</td>\n",
       "      <td>Thai</td>\n",
       "    </tr>\n",
       "    <tr>\n",
       "      <th>21889</th>\n",
       "      <td>அடியார்களுக்கு அன்னமிடுவதை வழக்கமாக கொண்டிருந்...</td>\n",
       "      <td>Tamil</td>\n",
       "    </tr>\n",
       "    <tr>\n",
       "      <th>6287</th>\n",
       "      <td>ब्युगाटी वेरॉन fbg पार एर्मस का नाम रुए द्यू फ...</td>\n",
       "      <td>Hindi</td>\n",
       "    </tr>\n",
       "    <tr>\n",
       "      <th>13473</th>\n",
       "      <td>in de collectie van de koninklijke bibliotheek...</td>\n",
       "      <td>Dutch</td>\n",
       "    </tr>\n",
       "    <tr>\n",
       "      <th>21932</th>\n",
       "      <td>em  de julho a imprensa gaúcha comemora o fim ...</td>\n",
       "      <td>Portugese</td>\n",
       "    </tr>\n",
       "    <tr>\n",
       "      <th>14581</th>\n",
       "      <td>esta obra contiene una traducción derivada de ...</td>\n",
       "      <td>Spanish</td>\n",
       "    </tr>\n",
       "    <tr>\n",
       "      <th>13923</th>\n",
       "      <td>ele depois assinou um contrato de quatro lutas...</td>\n",
       "      <td>Portugese</td>\n",
       "    </tr>\n",
       "    <tr>\n",
       "      <th>16431</th>\n",
       "      <td>on november   the group released their sixth s...</td>\n",
       "      <td>English</td>\n",
       "    </tr>\n",
       "    <tr>\n",
       "      <th>9862</th>\n",
       "      <td>سانچہقرآن-سورہ  آیت ۔۔۔* قَالَ هَلْ آمَنُكُمْ ...</td>\n",
       "      <td>Urdu</td>\n",
       "    </tr>\n",
       "    <tr>\n",
       "      <th>6625</th>\n",
       "      <td>킬제덴의 오른팔인 어나힐런 족 장수이자 만노로스의 부관이다 매그테리돈은 직속 상관인...</td>\n",
       "      <td>Korean</td>\n",
       "    </tr>\n",
       "    <tr>\n",
       "      <th>18871</th>\n",
       "      <td>مصطلح الراديو مشتق من الكلمة اللاتينية دائرة ن...</td>\n",
       "      <td>Arabic</td>\n",
       "    </tr>\n",
       "  </tbody>\n",
       "</table>\n",
       "</div>"
      ],
      "text/plain": [
       "                                                    Text   language\n",
       "14890  oorspronkelijk was ze verloofd met otto zoon v...      Dutch\n",
       "11876  वर्ष  में अद्यतन फ़्रेंचाइज़ कानून का जन्म हुआ...      Hindi\n",
       "17941  on april   she was recorded on surveillance vi...    English\n",
       "2458   ao mesmo tempo nas décadas recentes a heráldic...  Portugese\n",
       "550    また、ニュータウンの交通機関として新線建設を目的とした会社に相次いで出資した。北総開発鉄道（...   Japanese\n",
       "11315  selimova glavica är en kulle i bosnien och her...    Swedish\n",
       "14779  inför säsongen  skrev spanjoren på ett kontrak...    Swedish\n",
       "19381  on  march  matthias schoenaerts was announced ...    English\n",
       "3914   د  زېږدي کال په دسمبر کې د امريکا په اوهايو اي...     Pushto\n",
       "16855  கீட்டோடொன்டைடீ chaetodontidae பேர்சிஃபார்மசு ஒ...      Tamil\n",
       "7650   major-general lancelot edgar connop mervyn per...    English\n",
       "18170  grumesnil is een gemeente in het franse depart...      Dutch\n",
       "618     yılında iken sistemin ilk fırlatılışının  kas...    Turkish\n",
       "6691   ใน พศ  เขาได้รับเลือกตั้งอีกครั้งหนึ่ง และเป็น...       Thai\n",
       "3334   ตัว ห เมื่อเป็นตัวนำอักษรเดี่ยว ไม่ต้องออกเสีย...       Thai\n",
       "21889  அடியார்களுக்கு அன்னமிடுவதை வழக்கமாக கொண்டிருந்...      Tamil\n",
       "6287   ब्युगाटी वेरॉन fbg पार एर्मस का नाम रुए द्यू फ...      Hindi\n",
       "13473  in de collectie van de koninklijke bibliotheek...      Dutch\n",
       "21932  em  de julho a imprensa gaúcha comemora o fim ...  Portugese\n",
       "14581  esta obra contiene una traducción derivada de ...    Spanish\n",
       "13923  ele depois assinou um contrato de quatro lutas...  Portugese\n",
       "16431  on november   the group released their sixth s...    English\n",
       "9862   سانچہقرآن-سورہ  آیت ۔۔۔* قَالَ هَلْ آمَنُكُمْ ...       Urdu\n",
       "6625   킬제덴의 오른팔인 어나힐런 족 장수이자 만노로스의 부관이다 매그테리돈은 직속 상관인...     Korean\n",
       "18871  مصطلح الراديو مشتق من الكلمة اللاتينية دائرة ن...     Arabic"
      ]
     },
     "execution_count": 6,
     "metadata": {},
     "output_type": "execute_result"
    }
   ],
   "source": [
    "data.sample(25)"
   ]
  },
  {
   "cell_type": "code",
   "execution_count": 7,
   "id": "7d62b121-99d2-4dda-abed-98231f7a662f",
   "metadata": {},
   "outputs": [
    {
     "data": {
      "text/plain": [
       "(22000, 2)"
      ]
     },
     "execution_count": 7,
     "metadata": {},
     "output_type": "execute_result"
    }
   ],
   "source": [
    "data.shape"
   ]
  },
  {
   "cell_type": "code",
   "execution_count": 8,
   "id": "44ae72a8-7db0-4287-993a-a90c242009c8",
   "metadata": {},
   "outputs": [
    {
     "data": {
      "text/plain": [
       "44000"
      ]
     },
     "execution_count": 8,
     "metadata": {},
     "output_type": "execute_result"
    }
   ],
   "source": [
    "data.size"
   ]
  },
  {
   "cell_type": "code",
   "execution_count": 9,
   "id": "e373c0ca-088b-43bd-9dc6-104e329b6c3e",
   "metadata": {},
   "outputs": [
    {
     "data": {
      "text/html": [
       "<div>\n",
       "<style scoped>\n",
       "    .dataframe tbody tr th:only-of-type {\n",
       "        vertical-align: middle;\n",
       "    }\n",
       "\n",
       "    .dataframe tbody tr th {\n",
       "        vertical-align: top;\n",
       "    }\n",
       "\n",
       "    .dataframe thead th {\n",
       "        text-align: right;\n",
       "    }\n",
       "</style>\n",
       "<table border=\"1\" class=\"dataframe\">\n",
       "  <thead>\n",
       "    <tr style=\"text-align: right;\">\n",
       "      <th></th>\n",
       "      <th>Text</th>\n",
       "      <th>language</th>\n",
       "    </tr>\n",
       "  </thead>\n",
       "  <tbody>\n",
       "    <tr>\n",
       "      <th>count</th>\n",
       "      <td>22000</td>\n",
       "      <td>22000</td>\n",
       "    </tr>\n",
       "    <tr>\n",
       "      <th>unique</th>\n",
       "      <td>21859</td>\n",
       "      <td>22</td>\n",
       "    </tr>\n",
       "    <tr>\n",
       "      <th>top</th>\n",
       "      <td>haec commentatio automatice praeparata res ast...</td>\n",
       "      <td>Estonian</td>\n",
       "    </tr>\n",
       "    <tr>\n",
       "      <th>freq</th>\n",
       "      <td>48</td>\n",
       "      <td>1000</td>\n",
       "    </tr>\n",
       "  </tbody>\n",
       "</table>\n",
       "</div>"
      ],
      "text/plain": [
       "                                                     Text  language\n",
       "count                                               22000     22000\n",
       "unique                                              21859        22\n",
       "top     haec commentatio automatice praeparata res ast...  Estonian\n",
       "freq                                                   48      1000"
      ]
     },
     "execution_count": 9,
     "metadata": {},
     "output_type": "execute_result"
    }
   ],
   "source": [
    "data.describe()"
   ]
  },
  {
   "cell_type": "code",
   "execution_count": 10,
   "id": "64df68be-a52e-4baa-ad32-17a37c326011",
   "metadata": {},
   "outputs": [
    {
     "name": "stdout",
     "output_type": "stream",
     "text": [
      "<class 'pandas.core.frame.DataFrame'>\n",
      "RangeIndex: 22000 entries, 0 to 21999\n",
      "Data columns (total 2 columns):\n",
      " #   Column    Non-Null Count  Dtype \n",
      "---  ------    --------------  ----- \n",
      " 0   Text      22000 non-null  object\n",
      " 1   language  22000 non-null  object\n",
      "dtypes: object(2)\n",
      "memory usage: 343.9+ KB\n"
     ]
    }
   ],
   "source": [
    "data.info()"
   ]
  },
  {
   "cell_type": "code",
   "execution_count": 11,
   "id": "9364a507-50cf-48a4-b0b1-26e296eab648",
   "metadata": {},
   "outputs": [
    {
     "data": {
      "text/plain": [
       "0        klement gottwaldi surnukeha palsameeriti ning ...\n",
       "1        sebes joseph pereira thomas  på eng the jesuit...\n",
       "2        ถนนเจริญกรุง อักษรโรมัน thanon charoen krung เ...\n",
       "3        விசாகப்பட்டினம் தமிழ்ச்சங்கத்தை இந்துப் பத்திர...\n",
       "4        de spons behoort tot het geslacht haliclona en...\n",
       "                               ...                        \n",
       "21995    hors du terrain les années  et  sont des année...\n",
       "21996    ใน พศ  หลักจากที่เสด็จประพาสแหลมมลายู ชวา อินเ...\n",
       "21997    con motivo de la celebración del septuagésimoq...\n",
       "21998    年月，當時還只有歲的她在美國出道，以mai-k名義推出首張英文《baby i like》，由...\n",
       "21999     aprilie sonda spațială messenger a nasa și-a ...\n",
       "Name: Text, Length: 22000, dtype: object"
      ]
     },
     "execution_count": 11,
     "metadata": {},
     "output_type": "execute_result"
    }
   ],
   "source": [
    "data.Text"
   ]
  },
  {
   "cell_type": "code",
   "execution_count": 12,
   "id": "a17d831e-cdb2-4962-90b5-00be90b9c0dc",
   "metadata": {},
   "outputs": [
    {
     "data": {
      "text/plain": [
       "0        Estonian\n",
       "1         Swedish\n",
       "2            Thai\n",
       "3           Tamil\n",
       "4           Dutch\n",
       "           ...   \n",
       "21995      French\n",
       "21996        Thai\n",
       "21997     Spanish\n",
       "21998     Chinese\n",
       "21999    Romanian\n",
       "Name: language, Length: 22000, dtype: object"
      ]
     },
     "execution_count": 12,
     "metadata": {},
     "output_type": "execute_result"
    }
   ],
   "source": [
    "data.language"
   ]
  },
  {
   "cell_type": "code",
   "execution_count": 13,
   "id": "2614cdcf-886e-4565-b06c-a80938d3741a",
   "metadata": {},
   "outputs": [
    {
     "data": {
      "text/plain": [
       "Text        0\n",
       "language    0\n",
       "dtype: int64"
      ]
     },
     "execution_count": 13,
     "metadata": {},
     "output_type": "execute_result"
    }
   ],
   "source": [
    "data.isnull().sum()"
   ]
  },
  {
   "cell_type": "code",
   "execution_count": 14,
   "id": "94af0339-5c74-4346-a8b2-207a25dfec1e",
   "metadata": {},
   "outputs": [
    {
     "data": {
      "text/plain": [
       "language\n",
       "Estonian      1000\n",
       "Swedish       1000\n",
       "English       1000\n",
       "Russian       1000\n",
       "Romanian      1000\n",
       "Persian       1000\n",
       "Pushto        1000\n",
       "Spanish       1000\n",
       "Hindi         1000\n",
       "Korean        1000\n",
       "Chinese       1000\n",
       "French        1000\n",
       "Portugese     1000\n",
       "Indonesian    1000\n",
       "Urdu          1000\n",
       "Latin         1000\n",
       "Turkish       1000\n",
       "Japanese      1000\n",
       "Dutch         1000\n",
       "Tamil         1000\n",
       "Thai          1000\n",
       "Arabic        1000\n",
       "Name: count, dtype: int64"
      ]
     },
     "execution_count": 14,
     "metadata": {},
     "output_type": "execute_result"
    }
   ],
   "source": [
    "data.language.value_counts()"
   ]
  },
  {
   "cell_type": "code",
   "execution_count": 15,
   "id": "7da7e83f-4936-43cf-88c4-45819d95837e",
   "metadata": {},
   "outputs": [],
   "source": [
    "import time\n",
    "import nltk\n",
    "import re\n",
    "from nltk.stem.snowball import SnowballStemmer\n",
    "from sklearn.feature_extraction.text import TfidfVectorizer\n",
    "from sklearn.model_selection import train_test_split\n",
    "from sklearn.naive_bayes import MultinomialNB\n",
    "from sklearn.metrics import accuracy_score"
   ]
  },
  {
   "cell_type": "code",
   "execution_count": 17,
   "id": "156f00ee-8869-4646-b4a5-e01368488daa",
   "metadata": {},
   "outputs": [],
   "source": [
    "X = data.Text.values"
   ]
  },
  {
   "cell_type": "code",
   "execution_count": 18,
   "id": "2f2f51f9-8323-4e97-9c93-083d93574c78",
   "metadata": {},
   "outputs": [],
   "source": [
    "Y = data.language.values"
   ]
  },
  {
   "cell_type": "code",
   "execution_count": 19,
   "id": "9d0d436e-b1e1-4439-8c9f-b9a7b95751ae",
   "metadata": {},
   "outputs": [
    {
     "data": {
      "text/plain": [
       "(22000,)"
      ]
     },
     "execution_count": 19,
     "metadata": {},
     "output_type": "execute_result"
    }
   ],
   "source": [
    "X.shape"
   ]
  },
  {
   "cell_type": "code",
   "execution_count": 20,
   "id": "afd655d9-d104-4059-afbf-8c9c93ed6e1b",
   "metadata": {},
   "outputs": [
    {
     "data": {
      "text/plain": [
       "(22000,)"
      ]
     },
     "execution_count": 20,
     "metadata": {},
     "output_type": "execute_result"
    }
   ],
   "source": [
    "Y.shape"
   ]
  },
  {
   "cell_type": "code",
   "execution_count": 21,
   "id": "6c09b76b-dd32-4a57-98ca-62c8ff695b9d",
   "metadata": {},
   "outputs": [],
   "source": [
    "vector = TfidfVectorizer()\n",
    "vector.fit(X)\n",
    "X = vector.transform(X)"
   ]
  },
  {
   "cell_type": "code",
   "execution_count": 22,
   "id": "24548597-42b2-4de3-b81e-fc1ee6b40776",
   "metadata": {},
   "outputs": [
    {
     "data": {
      "text/plain": [
       "(22000, 277720)"
      ]
     },
     "execution_count": 22,
     "metadata": {},
     "output_type": "execute_result"
    }
   ],
   "source": [
    "X.shape"
   ]
  },
  {
   "cell_type": "code",
   "execution_count": 23,
   "id": "3d537398-4641-4e29-9394-fee550d58616",
   "metadata": {},
   "outputs": [
    {
     "name": "stdout",
     "output_type": "stream",
     "text": [
      "  (0, 122429)\t0.11632821567894927\n",
      "  (0, 122098)\t0.15245962403688545\n",
      "  (0, 122097)\t0.15245962403688545\n",
      "  (0, 117124)\t0.13392659423607992\n",
      "  (0, 113245)\t0.1389042716940385\n",
      "  (0, 112024)\t0.15245962403688545\n",
      "  (0, 106285)\t0.08285492222494331\n",
      "  (0, 104967)\t0.42661618752454356\n",
      "  (0, 80288)\t0.15245962403688545\n",
      "  (0, 80287)\t0.15245962403688545\n",
      "  (0, 80056)\t0.1464612850687559\n",
      "  (0, 79323)\t0.15245962403688545\n",
      "  (0, 77619)\t0.08182087878336176\n",
      "  (0, 76696)\t0.1389042716940385\n",
      "  (0, 75304)\t0.16625026948941637\n",
      "  (0, 75247)\t0.2290289414877052\n",
      "  (0, 67654)\t0.15245962403688545\n",
      "  (0, 67653)\t0.15245962403688545\n",
      "  (0, 63450)\t0.2433938789015453\n",
      "  (0, 63122)\t0.13392659423607992\n",
      "  (0, 60954)\t0.1464612850687559\n",
      "  (0, 59244)\t0.15245962403688545\n",
      "  (0, 57772)\t0.1389042716940385\n",
      "  (0, 55264)\t0.26785318847215983\n",
      "  (0, 53103)\t0.1322820868685367\n",
      "  :\t:\n",
      "  (21999, 104844)\t0.16248852574304734\n",
      "  (21999, 103845)\t0.18186228813180896\n",
      "  (21999, 102254)\t0.18987120980426156\n",
      "  (21999, 101742)\t0.3576348748525535\n",
      "  (21999, 101537)\t0.19555363016241606\n",
      "  (21999, 97734)\t0.07526526548636828\n",
      "  (21999, 95539)\t0.18546358214789696\n",
      "  (21999, 88346)\t0.20356255183486865\n",
      "  (21999, 84356)\t0.17385336645935637\n",
      "  (21999, 81608)\t0.10343937006427364\n",
      "  (21999, 74014)\t0.13510584168183312\n",
      "  (21999, 70726)\t0.18987120980426156\n",
      "  (21999, 69551)\t0.18987120980426156\n",
      "  (21999, 69301)\t0.3911072603248321\n",
      "  (21999, 66036)\t0.10270771489197011\n",
      "  (21999, 43690)\t0.20356255183486865\n",
      "  (21999, 40786)\t0.15215310275629662\n",
      "  (21999, 38077)\t0.1309466755562267\n",
      "  (21999, 28194)\t0.09160270401248888\n",
      "  (21999, 25042)\t0.19212934088982778\n",
      "  (21999, 20053)\t0.20356255183486865\n",
      "  (21999, 17371)\t0.20944489288925866\n",
      "  (21999, 6037)\t0.16016202442874922\n",
      "  (21999, 6023)\t0.14759970003791315\n",
      "  (21999, 4888)\t0.1290413507799354\n"
     ]
    }
   ],
   "source": [
    "print(X)"
   ]
  },
  {
   "cell_type": "code",
   "execution_count": 24,
   "id": "8d44d1bd-22b3-4dd0-9028-a57f0d07217a",
   "metadata": {},
   "outputs": [],
   "source": [
    "X_train, X_test, Y_train, Y_test = train_test_split(X, Y, test_size=0.2, stratify = Y,random_state = 2)"
   ]
  },
  {
   "cell_type": "code",
   "execution_count": 25,
   "id": "7a1a0402-2a7b-461c-a550-d76b807c63aa",
   "metadata": {},
   "outputs": [
    {
     "name": "stdout",
     "output_type": "stream",
     "text": [
      "  (0, 194266)\t0.17396412117237442\n",
      "  (0, 190509)\t0.15360935793211114\n",
      "  (0, 186377)\t0.1441449320049061\n",
      "  (0, 179829)\t0.19094088458465805\n",
      "  (0, 179091)\t0.33546012636973144\n",
      "  (0, 178349)\t0.19094088458465805\n",
      "  (0, 177544)\t0.3174115931599312\n",
      "  (0, 173251)\t0.1705861213443948\n",
      "  (0, 171073)\t0.15360935793211114\n",
      "  (0, 170996)\t0.13244891541159626\n",
      "  (0, 168963)\t0.12588001028706056\n",
      "  (0, 168944)\t0.3818817691693161\n",
      "  (0, 167964)\t0.19094088458465805\n",
      "  (0, 166099)\t0.15241360731910408\n",
      "  (0, 166005)\t0.16112169541718976\n",
      "  (0, 165997)\t0.1441449320049061\n",
      "  (0, 162317)\t0.19094088458465805\n",
      "  (0, 161676)\t0.1780984588294734\n",
      "  (0, 161285)\t0.17396412117237442\n",
      "  (0, 160938)\t0.13543684390682043\n",
      "  (0, 160670)\t0.15241360731910408\n",
      "  (0, 159707)\t0.1512903722740091\n",
      "  (0, 154967)\t0.12259441815163577\n",
      "  (0, 154951)\t0.16773006318486572\n",
      "  (0, 152604)\t0.08366621665604251\n",
      "  :\t:\n",
      "  (17599, 26366)\t0.059679632909940904\n",
      "  (17599, 26365)\t0.10661103553625474\n",
      "  (17599, 26084)\t0.059679632909940904\n",
      "  (17599, 25042)\t0.12045066340203094\n",
      "  (17599, 24657)\t0.1423762991316896\n",
      "  (17599, 22944)\t0.05915523259570576\n",
      "  (17599, 22925)\t0.06086173534704326\n",
      "  (17599, 21307)\t0.06153616600256736\n",
      "  (17599, 20913)\t0.05737688997840998\n",
      "  (17599, 20580)\t0.05737688997840998\n",
      "  (17599, 18845)\t0.06024602839798863\n",
      "  (17599, 18321)\t0.11475377995681996\n",
      "  (17599, 18286)\t0.06311516681756726\n",
      "  (17599, 17371)\t0.1125481831792744\n",
      "  (17599, 14762)\t0.05737688997840998\n",
      "  (17599, 12804)\t0.15862958363808308\n",
      "  (17599, 11365)\t0.06086173534704326\n",
      "  (17599, 11292)\t0.06311516681756726\n",
      "  (17599, 10064)\t0.06153616600256736\n",
      "  (17599, 8949)\t0.03861873959534258\n",
      "  (17599, 8381)\t0.06543781279239445\n",
      "  (17599, 2687)\t0.07292481586700715\n",
      "  (17599, 2543)\t0.047278377718548925\n",
      "  (17599, 2493)\t0.07292481586700715\n",
      "  (17599, 2085)\t0.052671407255985916\n"
     ]
    }
   ],
   "source": [
    "print(X_train)"
   ]
  },
  {
   "cell_type": "code",
   "execution_count": 26,
   "id": "a825becb-be61-431a-b692-aef728c4de25",
   "metadata": {},
   "outputs": [
    {
     "data": {
      "text/plain": [
       "array(['Urdu', 'Spanish', 'English', ..., 'Hindi', 'Hindi', 'French'],\n",
       "      dtype=object)"
      ]
     },
     "execution_count": 26,
     "metadata": {},
     "output_type": "execute_result"
    }
   ],
   "source": [
    "Y_train"
   ]
  },
  {
   "cell_type": "code",
   "execution_count": 27,
   "id": "8aa8d247-7240-4992-8bd4-e803d184e76e",
   "metadata": {},
   "outputs": [
    {
     "name": "stdout",
     "output_type": "stream",
     "text": [
      "['Urdu' 'Spanish' 'English' ... 'Hindi' 'Hindi' 'French']\n"
     ]
    }
   ],
   "source": [
    "print(Y_train)"
   ]
  },
  {
   "cell_type": "code",
   "execution_count": 28,
   "id": "e66ca59b-3d74-48ea-8c38-a56869c11018",
   "metadata": {},
   "outputs": [
    {
     "data": {
      "text/plain": [
       "<4400x277720 sparse matrix of type '<class 'numpy.float64'>'\n",
       "\twith 181787 stored elements in Compressed Sparse Row format>"
      ]
     },
     "execution_count": 28,
     "metadata": {},
     "output_type": "execute_result"
    }
   ],
   "source": [
    "X_test"
   ]
  },
  {
   "cell_type": "code",
   "execution_count": 29,
   "id": "b1e1c7fc-f2dc-4dc4-a95c-16fbaf722eab",
   "metadata": {},
   "outputs": [
    {
     "name": "stdout",
     "output_type": "stream",
     "text": [
      "  (0, 118099)\t0.12960711440046246\n",
      "  (0, 117883)\t0.11808360374682939\n",
      "  (0, 117624)\t0.10269308550475609\n",
      "  (0, 115867)\t0.0843663794270248\n",
      "  (0, 114496)\t0.1208899151078527\n",
      "  (0, 104205)\t0.12960711440046246\n",
      "  (0, 104044)\t0.12960711440046246\n",
      "  (0, 103985)\t0.07991524532191834\n",
      "  (0, 101535)\t0.08815781243016407\n",
      "  (0, 100667)\t0.18870264968831174\n",
      "  (0, 100591)\t0.09945055954164557\n",
      "  (0, 100272)\t0.12450787970297277\n",
      "  (0, 100271)\t0.25921422880092493\n",
      "  (0, 100224)\t0.12960711440046246\n",
      "  (0, 97674)\t0.12960711440046246\n",
      "  (0, 93383)\t0.12960711440046246\n",
      "  (0, 89843)\t0.08704414186449945\n",
      "  (0, 89743)\t0.11385204135240715\n",
      "  (0, 89736)\t0.09734964390713786\n",
      "  (0, 89735)\t0.09835628182514347\n",
      "  (0, 89515)\t0.07691692625893634\n",
      "  (0, 86802)\t0.11808360374682939\n",
      "  (0, 85792)\t0.09784289380058653\n",
      "  (0, 85685)\t0.0843663794270248\n",
      "  (0, 82848)\t0.12960711440046246\n",
      "  :\t:\n",
      "  (4398, 36932)\t0.2082454152570716\n",
      "  (4398, 30613)\t0.13732694474796733\n",
      "  (4398, 25042)\t0.055000482491003616\n",
      "  (4398, 15760)\t0.1833970507475676\n",
      "  (4398, 15654)\t0.26018878434908493\n",
      "  (4398, 14855)\t0.23309377976657558\n",
      "  (4398, 4767)\t0.23309377976657558\n",
      "  (4398, 557)\t0.20173863477330542\n",
      "  (4398, 464)\t0.21236915622364025\n",
      "  (4399, 124311)\t0.20484590771847613\n",
      "  (4399, 121243)\t0.26067227414430166\n",
      "  (4399, 121188)\t0.27134813745641645\n",
      "  (4399, 111792)\t0.27134813745641645\n",
      "  (4399, 95821)\t0.27134813745641645\n",
      "  (4399, 90326)\t0.2317459019552019\n",
      "  (4399, 89064)\t0.25309762857943147\n",
      "  (4399, 80382)\t0.26067227414430166\n",
      "  (4399, 76629)\t0.27134813745641645\n",
      "  (4399, 74985)\t0.14013018052061196\n",
      "  (4399, 65532)\t0.21500036946481585\n",
      "  (4399, 58484)\t0.27134813745641645\n",
      "  (4399, 58122)\t0.26067227414430166\n",
      "  (4399, 50769)\t0.2348471197024465\n",
      "  (4399, 48473)\t0.27134813745641645\n",
      "  (4399, 7321)\t0.27134813745641645\n"
     ]
    }
   ],
   "source": [
    "print(X_test)"
   ]
  },
  {
   "cell_type": "code",
   "execution_count": 30,
   "id": "b2a89c3c-a2ce-4691-b868-753cefe85341",
   "metadata": {},
   "outputs": [
    {
     "data": {
      "text/plain": [
       "array(['Latin', 'Korean', 'Arabic', ..., 'Latin', 'Romanian', 'Estonian'],\n",
       "      dtype=object)"
      ]
     },
     "execution_count": 30,
     "metadata": {},
     "output_type": "execute_result"
    }
   ],
   "source": [
    "Y_test"
   ]
  },
  {
   "cell_type": "code",
   "execution_count": 31,
   "id": "ba0497e7-1977-4a22-a0c1-5462cdc6df0b",
   "metadata": {},
   "outputs": [
    {
     "name": "stdout",
     "output_type": "stream",
     "text": [
      "['Latin' 'Korean' 'Arabic' ... 'Latin' 'Romanian' 'Estonian']\n"
     ]
    }
   ],
   "source": [
    "print(Y_test)"
   ]
  },
  {
   "cell_type": "code",
   "execution_count": 32,
   "id": "6f2d4d74-a54d-4874-8d52-8ff2f0a803d7",
   "metadata": {},
   "outputs": [],
   "source": [
    "from sklearn.preprocessing import LabelEncoder\n",
    "le = LabelEncoder()"
   ]
  },
  {
   "cell_type": "code",
   "execution_count": 33,
   "id": "6c65e900-4a3d-4f24-a6fa-90e2eea19d87",
   "metadata": {},
   "outputs": [
    {
     "data": {
      "text/plain": [
       "array([21, 16,  3, ...,  6,  6,  5])"
      ]
     },
     "execution_count": 33,
     "metadata": {},
     "output_type": "execute_result"
    }
   ],
   "source": [
    "Y_train = le.fit_transform(Y_train)\n",
    "Y_train"
   ]
  },
  {
   "cell_type": "code",
   "execution_count": 34,
   "id": "a144f42c-97ee-44f6-bb86-f90e47b5d706",
   "metadata": {},
   "outputs": [
    {
     "data": {
      "text/plain": [
       "array([10,  9,  0, ..., 10, 14,  4])"
      ]
     },
     "execution_count": 34,
     "metadata": {},
     "output_type": "execute_result"
    }
   ],
   "source": [
    "Y_test = le.fit_transform(Y_test)\n",
    "Y_test"
   ]
  },
  {
   "cell_type": "code",
   "execution_count": 35,
   "id": "85992b46-de67-4a3d-ab38-45484cfbbea9",
   "metadata": {},
   "outputs": [
    {
     "data": {
      "text/html": [
       "<style>#sk-container-id-1 {color: black;}#sk-container-id-1 pre{padding: 0;}#sk-container-id-1 div.sk-toggleable {background-color: white;}#sk-container-id-1 label.sk-toggleable__label {cursor: pointer;display: block;width: 100%;margin-bottom: 0;padding: 0.3em;box-sizing: border-box;text-align: center;}#sk-container-id-1 label.sk-toggleable__label-arrow:before {content: \"▸\";float: left;margin-right: 0.25em;color: #696969;}#sk-container-id-1 label.sk-toggleable__label-arrow:hover:before {color: black;}#sk-container-id-1 div.sk-estimator:hover label.sk-toggleable__label-arrow:before {color: black;}#sk-container-id-1 div.sk-toggleable__content {max-height: 0;max-width: 0;overflow: hidden;text-align: left;background-color: #f0f8ff;}#sk-container-id-1 div.sk-toggleable__content pre {margin: 0.2em;color: black;border-radius: 0.25em;background-color: #f0f8ff;}#sk-container-id-1 input.sk-toggleable__control:checked~div.sk-toggleable__content {max-height: 200px;max-width: 100%;overflow: auto;}#sk-container-id-1 input.sk-toggleable__control:checked~label.sk-toggleable__label-arrow:before {content: \"▾\";}#sk-container-id-1 div.sk-estimator input.sk-toggleable__control:checked~label.sk-toggleable__label {background-color: #d4ebff;}#sk-container-id-1 div.sk-label input.sk-toggleable__control:checked~label.sk-toggleable__label {background-color: #d4ebff;}#sk-container-id-1 input.sk-hidden--visually {border: 0;clip: rect(1px 1px 1px 1px);clip: rect(1px, 1px, 1px, 1px);height: 1px;margin: -1px;overflow: hidden;padding: 0;position: absolute;width: 1px;}#sk-container-id-1 div.sk-estimator {font-family: monospace;background-color: #f0f8ff;border: 1px dotted black;border-radius: 0.25em;box-sizing: border-box;margin-bottom: 0.5em;}#sk-container-id-1 div.sk-estimator:hover {background-color: #d4ebff;}#sk-container-id-1 div.sk-parallel-item::after {content: \"\";width: 100%;border-bottom: 1px solid gray;flex-grow: 1;}#sk-container-id-1 div.sk-label:hover label.sk-toggleable__label {background-color: #d4ebff;}#sk-container-id-1 div.sk-serial::before {content: \"\";position: absolute;border-left: 1px solid gray;box-sizing: border-box;top: 0;bottom: 0;left: 50%;z-index: 0;}#sk-container-id-1 div.sk-serial {display: flex;flex-direction: column;align-items: center;background-color: white;padding-right: 0.2em;padding-left: 0.2em;position: relative;}#sk-container-id-1 div.sk-item {position: relative;z-index: 1;}#sk-container-id-1 div.sk-parallel {display: flex;align-items: stretch;justify-content: center;background-color: white;position: relative;}#sk-container-id-1 div.sk-item::before, #sk-container-id-1 div.sk-parallel-item::before {content: \"\";position: absolute;border-left: 1px solid gray;box-sizing: border-box;top: 0;bottom: 0;left: 50%;z-index: -1;}#sk-container-id-1 div.sk-parallel-item {display: flex;flex-direction: column;z-index: 1;position: relative;background-color: white;}#sk-container-id-1 div.sk-parallel-item:first-child::after {align-self: flex-end;width: 50%;}#sk-container-id-1 div.sk-parallel-item:last-child::after {align-self: flex-start;width: 50%;}#sk-container-id-1 div.sk-parallel-item:only-child::after {width: 0;}#sk-container-id-1 div.sk-dashed-wrapped {border: 1px dashed gray;margin: 0 0.4em 0.5em 0.4em;box-sizing: border-box;padding-bottom: 0.4em;background-color: white;}#sk-container-id-1 div.sk-label label {font-family: monospace;font-weight: bold;display: inline-block;line-height: 1.2em;}#sk-container-id-1 div.sk-label-container {text-align: center;}#sk-container-id-1 div.sk-container {/* jupyter's `normalize.less` sets `[hidden] { display: none; }` but bootstrap.min.css set `[hidden] { display: none !important; }` so we also need the `!important` here to be able to override the default hidden behavior on the sphinx rendered scikit-learn.org. See: https://github.com/scikit-learn/scikit-learn/issues/21755 */display: inline-block !important;position: relative;}#sk-container-id-1 div.sk-text-repr-fallback {display: none;}</style><div id=\"sk-container-id-1\" class=\"sk-top-container\"><div class=\"sk-text-repr-fallback\"><pre>MultinomialNB()</pre><b>In a Jupyter environment, please rerun this cell to show the HTML representation or trust the notebook. <br />On GitHub, the HTML representation is unable to render, please try loading this page with nbviewer.org.</b></div><div class=\"sk-container\" hidden><div class=\"sk-item\"><div class=\"sk-estimator sk-toggleable\"><input class=\"sk-toggleable__control sk-hidden--visually\" id=\"sk-estimator-id-1\" type=\"checkbox\" checked><label for=\"sk-estimator-id-1\" class=\"sk-toggleable__label sk-toggleable__label-arrow\">MultinomialNB</label><div class=\"sk-toggleable__content\"><pre>MultinomialNB()</pre></div></div></div></div></div>"
      ],
      "text/plain": [
       "MultinomialNB()"
      ]
     },
     "execution_count": 35,
     "metadata": {},
     "output_type": "execute_result"
    }
   ],
   "source": [
    "model = MultinomialNB()\n",
    "model.fit(X_train, Y_train)"
   ]
  },
  {
   "cell_type": "code",
   "execution_count": 36,
   "id": "40a33549-e8df-4472-8c9b-9fffe559b203",
   "metadata": {},
   "outputs": [
    {
     "data": {
      "text/plain": [
       "array([10,  9,  0, ..., 10, 14,  4])"
      ]
     },
     "execution_count": 36,
     "metadata": {},
     "output_type": "execute_result"
    }
   ],
   "source": [
    "model.predict(X_test)"
   ]
  },
  {
   "cell_type": "code",
   "execution_count": 37,
   "id": "cacdea13-221c-4067-9ec6-317be2f4e13e",
   "metadata": {},
   "outputs": [],
   "source": [
    "X_train_prediction = model.predict(X_train)\n",
    "training_data_accuracy = accuracy_score(X_train_prediction, Y_train)"
   ]
  },
  {
   "cell_type": "code",
   "execution_count": 38,
   "id": "1a986a83-5763-4fa6-8495-ffb3a4156801",
   "metadata": {},
   "outputs": [
    {
     "data": {
      "text/plain": [
       "0.9839772727272728"
      ]
     },
     "execution_count": 38,
     "metadata": {},
     "output_type": "execute_result"
    }
   ],
   "source": [
    "training_data_accuracy"
   ]
  },
  {
   "cell_type": "code",
   "execution_count": 39,
   "id": "2dcc7b65-c396-4651-b504-5408215fbb01",
   "metadata": {},
   "outputs": [],
   "source": [
    "X_test_prediction = model.predict(X_test)\n",
    "testing_data_accuracy = accuracy_score(X_test_prediction, Y_test)"
   ]
  },
  {
   "cell_type": "code",
   "execution_count": 40,
   "id": "6c0360a7-9134-4cd1-a923-07ea824b71b9",
   "metadata": {},
   "outputs": [
    {
     "data": {
      "text/plain": [
       "0.9525"
      ]
     },
     "execution_count": 40,
     "metadata": {},
     "output_type": "execute_result"
    }
   ],
   "source": [
    "testing_data_accuracy"
   ]
  },
  {
   "cell_type": "code",
   "execution_count": 41,
   "id": "0951c6f9-149b-455b-b113-6f44e6518849",
   "metadata": {},
   "outputs": [
    {
     "data": {
      "text/plain": [
       "'klement gottwaldi surnukeha palsameeriti ning paigutati mausoleumi surnukeha oli aga liiga hilja ja oskamatult palsameeritud ning hakkas ilmutama lagunemise tundemärke  aastal viidi ta surnukeha mausoleumist ära ja kremeeriti zlíni linn kandis aastatel – nime gottwaldov ukrainas harkivi oblastis kandis zmiivi linn aastatel – nime gotvald'"
      ]
     },
     "execution_count": 41,
     "metadata": {},
     "output_type": "execute_result"
    }
   ],
   "source": [
    "data.Text[0]"
   ]
  },
  {
   "cell_type": "code",
   "execution_count": 45,
   "id": "3236e85c-e8c5-416e-b292-c2e9027e2692",
   "metadata": {},
   "outputs": [
    {
     "data": {
      "text/plain": [
       "'Estonian'"
      ]
     },
     "execution_count": 45,
     "metadata": {},
     "output_type": "execute_result"
    }
   ],
   "source": [
    "data.language[0]"
   ]
  },
  {
   "cell_type": "code",
   "execution_count": 46,
   "id": "64ce9d8e-65cb-4aa0-ac51-eeb618a265f2",
   "metadata": {},
   "outputs": [
    {
     "data": {
      "text/plain": [
       "array(['Estonian'], dtype=object)"
      ]
     },
     "execution_count": 46,
     "metadata": {},
     "output_type": "execute_result"
    }
   ],
   "source": [
    "testing = data.Text[0]\n",
    "testing = [testing]\n",
    "testing = vector.transform(testing)\n",
    "prediction =  model.predict(testing)\n",
    "prediction = le.inverse_transform(prediction)\n",
    "prediction"
   ]
  },
  {
   "cell_type": "code",
   "execution_count": 47,
   "id": "38be3129-cc45-4213-bd3f-bde9dd6b05de",
   "metadata": {},
   "outputs": [
    {
     "name": "stdin",
     "output_type": "stream",
     "text": [
      "Enter a text: 킬제덴의 오른팔인 어나힐런 족 장수이자\n"
     ]
    },
    {
     "data": {
      "text/plain": [
       "array(['Korean'], dtype=object)"
      ]
     },
     "execution_count": 47,
     "metadata": {},
     "output_type": "execute_result"
    }
   ],
   "source": [
    "user = input(\"Enter a text:\")\n",
    "user = [user]\n",
    "user = vector.transform(user)\n",
    "prediction =  model.predict(user)\n",
    "prediction = le.inverse_transform(prediction)\n",
    "prediction"
   ]
  },
  {
   "cell_type": "code",
   "execution_count": 48,
   "id": "3cba6d73-cfca-4893-81af-32be5a4d5939",
   "metadata": {},
   "outputs": [
    {
     "name": "stdin",
     "output_type": "stream",
     "text": [
      "Enter a text: สวัสดีครับ/ค่ะ\n"
     ]
    },
    {
     "data": {
      "text/plain": [
       "array(['Thai'], dtype=object)"
      ]
     },
     "execution_count": 48,
     "metadata": {},
     "output_type": "execute_result"
    }
   ],
   "source": [
    "user = input(\"Enter a text:\")\n",
    "user = [user]\n",
    "user = vector.transform(user)\n",
    "prediction =  model.predict(user)\n",
    "prediction = le.inverse_transform(prediction)\n",
    "prediction"
   ]
  },
  {
   "cell_type": "code",
   "execution_count": 50,
   "id": "acc48620-0109-4b2c-a112-12317c611346",
   "metadata": {},
   "outputs": [],
   "source": [
    "import pickle\n",
    "with open('model.pickle', 'wb') as file:\n",
    "     pickle.dump(model, file)"
   ]
  },
  {
   "cell_type": "code",
   "execution_count": null,
   "id": "b70e4daa-490a-4a33-a101-e98cbbfc2f30",
   "metadata": {},
   "outputs": [],
   "source": []
  }
 ],
 "metadata": {
  "kernelspec": {
   "display_name": "Python 3 (ipykernel)",
   "language": "python",
   "name": "python3"
  },
  "language_info": {
   "codemirror_mode": {
    "name": "ipython",
    "version": 3
   },
   "file_extension": ".py",
   "mimetype": "text/x-python",
   "name": "python",
   "nbconvert_exporter": "python",
   "pygments_lexer": "ipython3",
   "version": "3.11.2"
  }
 },
 "nbformat": 4,
 "nbformat_minor": 5
}
